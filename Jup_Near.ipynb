{
 "cells": [
  {
   "cell_type": "code",
   "execution_count": 3,
   "metadata": {},
   "outputs": [],
   "source": [
    "import arcpy\n",
    "arcpy.env.overwriteOutput = True"
   ]
  },
  {
   "cell_type": "code",
   "execution_count": 18,
   "metadata": {},
   "outputs": [],
   "source": [
    "# subset of broadcast points (~88,000 points)\n",
    "CCB_cluster_file = r\"V:\\CourseProject\\ShipTracker.gdb\\ShipsCCB_cluster\"\n",
    "\n",
    "# Ports of interest\n",
    "PTown_feature = \"V:\\CourseProject\\ShipTracker.gdb\\PTown_feature\"\n",
    "Canal_feature = \"V:\\CourseProject\\ShipTracker.gdb\\CanalNE_feature\""
   ]
  },
  {
   "cell_type": "code",
   "execution_count": 20,
   "metadata": {
    "scrolled": true
   },
   "outputs": [
    {
     "data": {
      "text/html": [
       "<h2>Output</h2>V:\\CourseProject\\ShipTracker.gdb\\ShipsCCB_cluster<h2>Messages</h2>Start Time: Saturday, November 21, 2020 12:18:07 PM<br/>Determining data processing extents...<br/>Adding NEAR_FC to ShipsCCB_cluster...<br/>Building a neighborhood index from the Near Features...<br/>Generating Near Table...<br/>Found 2119 feature(s) within 100<br/>Succeeded at Saturday, November 21, 2020 12:18:16 PM (Elapsed Time: 9.00 seconds)<br/><style>.rendered_html td, .rendered_html th {text-align: left;}.rendered_html tbody {border: 1px solid black;}</style>"
      ],
      "text/plain": [
       "<Result 'V:\\\\CourseProject\\\\ShipTracker.gdb\\\\ShipsCCB_cluster'>"
      ]
     },
     "execution_count": 20,
     "metadata": {},
     "output_type": "execute_result"
    }
   ],
   "source": [
    "# see if we get near distances for both ports..\n",
    "ptown = PTown_feature\n",
    "canal = Canal_feature\n",
    "ship_points = CCB_cluster_file\n",
    "search_radius = \"100 meters\"\n",
    "\n",
    "# run near analysis\n",
    "arcpy.Near_analysis(ship_points, [ptown, canal], search_radius,'','', 'GEODESIC') # Geodesic method -> output in meters"
   ]
  }
 ],
 "metadata": {
  "kernelspec": {
   "display_name": "Python 3",
   "language": "python",
   "name": "python3"
  },
  "language_info": {
   "codemirror_mode": {
    "name": "ipython",
    "version": 3
   },
   "file_extension": ".py",
   "mimetype": "text/x-python",
   "name": "python",
   "nbconvert_exporter": "python",
   "pygments_lexer": "ipython3",
   "version": "3.6.12"
  }
 },
 "nbformat": 4,
 "nbformat_minor": 4
}
