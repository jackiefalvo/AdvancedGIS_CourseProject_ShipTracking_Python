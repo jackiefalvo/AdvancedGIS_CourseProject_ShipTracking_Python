{
 "cells": [
  {
   "cell_type": "code",
   "execution_count": 1,
   "metadata": {},
   "outputs": [],
   "source": [
    "import arcpy, os, sys\n",
    "import pandas as pd\n",
    "\n",
    "arcpy.env.workspace = r\"V:\\CourseProject\\Data\\Zone19_2014_01.gdb\"\n",
    "arcpy.env.overwriteOutput = True\n",
    "\n",
    "broadcast = r\"Zone19_2014_01_Broadcast\""
   ]
  },
  {
   "cell_type": "code",
   "execution_count": 2,
   "metadata": {},
   "outputs": [
    {
     "name": "stdout",
     "output_type": "stream",
     "text": [
      "OBJECTID\n",
      "Shape\n",
      "SOG\n",
      "COG\n",
      "Heading\n",
      "ROT\n",
      "BaseDateTime\n",
      "Status\n",
      "VoyageID\n",
      "MMSI\n",
      "ReceiverType\n",
      "ReceiverID\n",
      "SpeedingStatus\n",
      "There are 4068453 records in the broadcast points shapefile.\n"
     ]
    }
   ],
   "source": [
    "# number of records\n",
    "broadcast_count = arcpy.GetCount_management(broadcast)\n",
    "\n",
    "# field names \n",
    "fields_bc = arcpy.ListFields(broadcast)\n",
    "\n",
    "for field in fields_bc:\n",
    "    print(field.name)\n",
    "    \n",
    "print(f\"There are {broadcast_count} records in the broadcast points shapefile.\")"
   ]
  },
  {
   "cell_type": "code",
   "execution_count": 4,
   "metadata": {},
   "outputs": [
    {
     "name": "stdout",
     "output_type": "stream",
     "text": [
      "There are 8515 points in voyage 35\n"
     ]
    }
   ],
   "source": [
    "#%% search cursor - broadcast points\n",
    "# create new field in broadcast points fc\n",
    "# arcpy.AddField_management(broadcast, 'SpeedingStatus', 'TEXT')\n",
    "\n",
    "# **not sure if broadcast fc was permanently updated with neew field...seems like it was?\n",
    "\n",
    "# fields of interest\n",
    "fields = ['MMSI', 'VoyageID', 'SOG', 'SpeedingStatus']\n",
    "\n",
    "# Create a cursor (this is like opening a file)\n",
    "rows = arcpy.da.SearchCursor(broadcast, fields)\n",
    "\n",
    "# voyage35 list\n",
    "voyage35 = []\n",
    "\n",
    "# how many points are in voyage 35?\n",
    "for record in rows:\n",
    "    \n",
    "    MMSI = record[0]\n",
    "    VoyageID = record[1]\n",
    "    Speed = record[2]\n",
    "    \n",
    "    # add all points with Voyage ID 35 to a list (probs would be better to copy feat class)\n",
    "    if VoyageID == 35:\n",
    "        voyage35.append(record)\n",
    "    \n",
    "    else:\n",
    "        pass\n",
    "        \n",
    "print(\"There are\", len(voyage35), \"points in voyage 35\") \n",
    "\n",
    "del rows\n",
    "        "
   ]
  },
  {
   "cell_type": "code",
   "execution_count": 7,
   "metadata": {},
   "outputs": [
    {
     "data": {
      "text/plain": [
       "str"
      ]
     },
     "execution_count": 7,
     "metadata": {},
     "output_type": "execute_result"
    }
   ],
   "source": [
    "# create output feature class of voyage 35 points\n",
    "    # should be 8,515 points (based on my count above) spanning the whole UTM zone (wiiide lat range)\n",
    "    # with this FC..\n",
    "        # explore lat/lon range, timestamp range, how many times it went to Ptown/canal..\n",
    "        # use it as test to flag points that hit Ptown \n",
    "            # establish Ptown location (create point obj) \n",
    "            # buffer around point, run intersection?"
   ]
  },
  {
   "cell_type": "code",
   "execution_count": 7,
   "metadata": {},
   "outputs": [
    {
     "name": "stdout",
     "output_type": "stream",
     "text": [
      "Zone19_2014_01_Broadcast\n"
     ]
    }
   ],
   "source": [
    "type(broadcast)\n",
    "arcpy.ListFeatureClasses()\n",
    "print(broadcast)"
   ]
  },
  {
   "cell_type": "code",
   "execution_count": 20,
   "metadata": {},
   "outputs": [
    {
     "data": {
      "text/html": [
       "<h2>Output</h2>V:\\CourseProject\\Scratch\\scratch.gdb\\Voyage35_good<h2>Messages</h2>Start Time: Thursday, November 19, 2020 4:20:00 PM<br/>Succeeded at Thursday, November 19, 2020 4:20:05 PM (Elapsed Time: 4.66 seconds)<br/><style>.rendered_html td, .rendered_html th {text-align: left;}.rendered_html tbody {border: 1px solid black;}</style>"
      ],
      "text/plain": [
       "<Result 'V:\\\\CourseProject\\\\Scratch\\\\scratch.gdb\\\\Voyage35_good'>"
      ]
     },
     "execution_count": 20,
     "metadata": {},
     "output_type": "execute_result"
    }
   ],
   "source": [
    "## create new feature class of ALL voyage 35 points\n",
    "\n",
    "# parameters\n",
    "in_feat = broadcast\n",
    "out_fc = \"V:\\CourseProject\\Scratch\\scratch.gdb\\Voyage35_good\"\n",
    "where_clause = \"VoyageID = 35\"\n",
    "\n",
    "# run select tool\n",
    "arcpy.Select_analysis(in_feat, out_fc, where_clause)"
   ]
  },
  {
   "cell_type": "code",
   "execution_count": 21,
   "metadata": {},
   "outputs": [
    {
     "name": "stdout",
     "output_type": "stream",
     "text": [
      "OBJECTID\n",
      "Shape\n",
      "SOG\n",
      "COG\n",
      "Heading\n",
      "ROT\n",
      "BaseDateTime\n",
      "Status\n",
      "VoyageID\n",
      "MMSI\n",
      "ReceiverType\n",
      "ReceiverID\n",
      "SpeedingStatus\n",
      "There are 8515 records in the broadcast points shapefile.\n"
     ]
    }
   ],
   "source": [
    "# explore voyage 35 fc\n",
    "Voyage35 = \"V:\\CourseProject\\Scratch\\scratch.gdb\\Voyage35_good\"\n",
    "\n",
    "# number of records\n",
    "Voyage35_count = arcpy.GetCount_management(Voyage35)  \n",
    "\n",
    "# field names \n",
    "Voyage35_fields = arcpy.ListFields(Voyage35)\n",
    "\n",
    "for field in Voyage35_fields:\n",
    "    print(field.name)\n",
    "    \n",
    "print(f\"There are {Voyage35_count} records in the broadcast points shapefile.\")"
   ]
  },
  {
   "cell_type": "code",
   "execution_count": null,
   "metadata": {},
   "outputs": [],
   "source": []
  }
 ],
 "metadata": {
  "kernelspec": {
   "display_name": "Python 3",
   "language": "python",
   "name": "python3"
  },
  "language_info": {
   "codemirror_mode": {
    "name": "ipython",
    "version": 3
   },
   "file_extension": ".py",
   "mimetype": "text/x-python",
   "name": "python",
   "nbconvert_exporter": "python",
   "pygments_lexer": "ipython3",
   "version": "3.6.10"
  }
 },
 "nbformat": 4,
 "nbformat_minor": 4
}
