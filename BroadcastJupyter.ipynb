{
 "cells": [
  {
   "cell_type": "code",
   "execution_count": 2,
   "metadata": {},
   "outputs": [],
   "source": [
    "import arcpy, os, sys\n",
    "import pandas as pd\n",
    "\n",
    "arcpy.env.workspace = r\"V:\\CourseProject\\Data\\Zone19_2014_01.gdb\"\n",
    "arcpy.env.overwriteOutput = True\n",
    "wkspace = \"V:\\CourseProject\\Data\\Zone19_2014_01.gdb\" # est this for update cursor (edit sesh)\n",
    "\n",
    "broadcast = r\"Zone19_2014_01_Broadcast\""
   ]
  },
  {
   "cell_type": "code",
   "execution_count": null,
   "metadata": {},
   "outputs": [],
   "source": []
  }
 ],
 "metadata": {
  "kernelspec": {
   "display_name": "Python 3",
   "language": "python",
   "name": "python3"
  },
  "language_info": {
   "codemirror_mode": {
    "name": "ipython",
    "version": 3
   },
   "file_extension": ".py",
   "mimetype": "text/x-python",
   "name": "python",
   "nbconvert_exporter": "python",
   "pygments_lexer": "ipython3",
   "version": "3.6.10"
  }
 },
 "nbformat": 4,
 "nbformat_minor": 4
}
