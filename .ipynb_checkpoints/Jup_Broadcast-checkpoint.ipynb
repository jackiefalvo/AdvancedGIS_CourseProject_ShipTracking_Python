{
 "cells": [
  {
   "cell_type": "code",
   "execution_count": 3,
   "metadata": {},
   "outputs": [],
   "source": [
    "import arcpy, os, sys\n",
    "import pandas as pd\n",
    "\n",
    "arcpy.env.workspace = r\"V:\\CourseProject\\Data\\Zone19_2014_01.gdb\"\n",
    "arcpy.env.overwriteOutput = True\n",
    "\n",
    "broadcast = r\"Zone19_2014_01_Broadcast\""
   ]
  },
  {
   "cell_type": "code",
   "execution_count": 2,
   "metadata": {},
   "outputs": [
    {
     "name": "stdout",
     "output_type": "stream",
     "text": [
      "OBJECTID\n",
      "Shape\n",
      "SOG\n",
      "COG\n",
      "Heading\n",
      "ROT\n",
      "BaseDateTime\n",
      "Status\n",
      "VoyageID\n",
      "MMSI\n",
      "ReceiverType\n",
      "ReceiverID\n",
      "SpeedingStatus\n",
      "There are 4068453 records in the broadcast points shapefile.\n"
     ]
    }
   ],
   "source": [
    "# number of records\n",
    "broadcast_count = arcpy.GetCount_management(broadcast)\n",
    "\n",
    "# field names \n",
    "fields_bc = arcpy.ListFields(broadcast)\n",
    "\n",
    "for field in fields_bc:\n",
    "    print(field.name)\n",
    "    \n",
    "print(f\"There are {broadcast_count} records in the broadcast points shapefile.\")"
   ]
  },
  {
   "cell_type": "code",
   "execution_count": 4,
   "metadata": {},
   "outputs": [
    {
     "name": "stdout",
     "output_type": "stream",
     "text": [
      "There are 8515 points in voyage 35\n"
     ]
    }
   ],
   "source": [
    "#%% search cursor - broadcast points\n",
    "# create new field in broadcast points fc\n",
    "# arcpy.AddField_management(broadcast, 'SpeedingStatus', 'TEXT')\n",
    "\n",
    "# **not sure if broadcast fc was permanently updated with neew field...seems like it was?\n",
    "\n",
    "# fields of interest\n",
    "fields = ['MMSI', 'VoyageID', 'SOG', 'SpeedingStatus']\n",
    "\n",
    "# Create a cursor (this is like opening a file)\n",
    "rows = arcpy.da.SearchCursor(broadcast, fields)\n",
    "\n",
    "# voyage35 list\n",
    "voyage35 = []\n",
    "\n",
    "# how many points are in voyage 35?\n",
    "for record in rows:\n",
    "    \n",
    "    MMSI = record[0]\n",
    "    VoyageID = record[1]\n",
    "    Speed = record[2]\n",
    "    \n",
    "    # add all points with Voyage ID 35 to a list (probs would be better to copy feat class)\n",
    "    if VoyageID == 35:\n",
    "        voyage35.append(record)\n",
    "    \n",
    "    else:\n",
    "        pass\n",
    "        \n",
    "print(\"There are\", len(voyage35), \"points in voyage 35\") \n",
    "\n",
    "del rows\n",
    "        "
   ]
  },
  {
   "cell_type": "code",
   "execution_count": 7,
   "metadata": {},
   "outputs": [
    {
     "data": {
      "text/plain": [
       "str"
      ]
     },
     "execution_count": 7,
     "metadata": {},
     "output_type": "execute_result"
    }
   ],
   "source": [
    "# create output feature class of voyage 35 points\n",
    "    # should be 8,515 records long, based on our count above"
   ]
  },
  {
   "cell_type": "code",
   "execution_count": 6,
   "metadata": {},
   "outputs": [
    {
     "ename": "AttributeError",
     "evalue": "'str' object has no attribute 'query'",
     "output_type": "error",
     "traceback": [
      "\u001b[1;31m---------------------------------------------------------------------------\u001b[0m",
      "\u001b[1;31mAttributeError\u001b[0m                            Traceback (most recent call last)",
      "\u001b[1;32m<ipython-input-6-9621c532169a>\u001b[0m in \u001b[0;36m<module>\u001b[1;34m\u001b[0m\n\u001b[0;32m      2\u001b[0m \u001b[1;33m\u001b[0m\u001b[0m\n\u001b[0;32m      3\u001b[0m \u001b[1;31m# can I get a spatial dataframe object from my broadcast points?\u001b[0m\u001b[1;33m\u001b[0m\u001b[1;33m\u001b[0m\u001b[1;33m\u001b[0m\u001b[0m\n\u001b[1;32m----> 4\u001b[1;33m \u001b[0mdf_voy35\u001b[0m \u001b[1;33m=\u001b[0m \u001b[0mbroadcast\u001b[0m\u001b[1;33m.\u001b[0m\u001b[0mquery\u001b[0m\u001b[1;33m(\u001b[0m\u001b[0mwhere\u001b[0m \u001b[1;33m=\u001b[0m \u001b[1;34m'VoyageID = 35'\u001b[0m\u001b[1;33m)\u001b[0m\u001b[1;33m\u001b[0m\u001b[1;33m\u001b[0m\u001b[0m\n\u001b[0m",
      "\u001b[1;31mAttributeError\u001b[0m: 'str' object has no attribute 'query'"
     ]
    }
   ],
   "source": [
    "from arcgis import GIS\n",
    "\n",
    "# can I get a spatial dataframe object from my broadcast points? ..hold this thought\n",
    "    # look into arcgis API for python to put some plots in notebook..\n",
    "df_voy35 = broadcast.query(where = 'VoyageID = 35')"
   ]
  },
  {
   "cell_type": "code",
   "execution_count": null,
   "metadata": {},
   "outputs": [],
   "source": []
  }
 ],
 "metadata": {
  "kernelspec": {
   "display_name": "Python 3",
   "language": "python",
   "name": "python3"
  },
  "language_info": {
   "codemirror_mode": {
    "name": "ipython",
    "version": 3
   },
   "file_extension": ".py",
   "mimetype": "text/x-python",
   "name": "python",
   "nbconvert_exporter": "python",
   "pygments_lexer": "ipython3",
   "version": "3.6.10"
  }
 },
 "nbformat": 4,
 "nbformat_minor": 4
}
